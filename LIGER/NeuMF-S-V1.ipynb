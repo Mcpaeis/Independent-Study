{
  "nbformat": 4,
  "nbformat_minor": 0,
  "metadata": {
    "colab": {
      "name": "Liger Simulations V1-S.ipynb",
      "provenance": [],
      "collapsed_sections": []
    },
    "kernelspec": {
      "name": "python3-azureml",
      "display_name": "Python 3.6 - AzureML",
      "language": "python"
    },
    "language_info": {
      "file_extension": ".py",
      "nbconvert_exporter": "python",
      "mimetype": "text/x-python",
      "name": "python",
      "version": "3.6.9",
      "pygments_lexer": "ipython3",
      "codemirror_mode": {
        "name": "ipython",
        "version": 3
      }
    }
  },
  "cells": [
    {
      "cell_type": "markdown",
      "metadata": {
        "colab_type": "text",
        "id": "YKYKzIk0coAS"
      },
      "source": [
        "## (A) Neural Matrix Factorizarion Steps -  NeuMF Paper\n",
        "\n",
        "1.   Usually given an \"object 1 by object 2\" observation matrix M with explicit feedback data.\n",
        "\n",
        "---\n",
        "\n",
        "2.   Two learning approaches can be adopted: \n",
        "\n",
        "*   Pointwise learning: follows a regression framework by minimizing the squred loss between *yPredicted* and *yObserved*.\n",
        "*   Pairwise learning: this ranks observed entries higher relative to unobserved entries, and maximizes the margin between them.\n",
        "\n",
        "---\n",
        "\n",
        "3. Electing pointwise learning, the training phase involves searching for the optimal parameters that minimizes this squared loss over a reduced (k-dimensional) feature space.\n",
        "\n",
        "---\n",
        "\n",
        "*   Predictions can then be made for the unobserved entries.\n",
        "*   In essence, both the observed and unobserved entries have been approximated by a non-linear function, which presumably improves upon linear(dot product) approximation.\n",
        "\n",
        "---\n",
        "\n",
        "What's often done(and adopted by the paper) is to restructure the problem to make use of implicit data (more easy to collect compared to explicit data)\n",
        "\n",
        "So in this case, the observation matrix M is converted into a binary interaction matrix P. The training prediction processes are similar as in the case of learning with M.\n",
        "\n",
        "---\n",
        "---\n",
        "\n",
        "## (B) Recovering the gene expression matrix(normalized) from LIGER ##\n",
        "\n",
        "1. Pass the downsampled control and interferon-stimulated PBMCs to the LIGER function.\n",
        "\n",
        "2. The LIGER function returns a normalized **H1, H2**, **V1, V2**, and **W**(shared) by performing non-negative matrix factorization.\n",
        "\n",
        "3. These matrices can be used to recover a dense representation of the original expression matrices.\n",
        "\n",
        "4. ** The \"cell paper\" then achieves integrative clustering by buildng a shared neighbourhood graph following the five steps of \"Joint clustering and factor normalization\" under the STAR methods.\n",
        "\n",
        "---\n",
        "---\n",
        "\n",
        "## (C) Self Implementation\n",
        "\n",
        "### Get data:\n",
        "1. A first option to getting the gene expression matrices is to recover them from the LIGER output.\n",
        "\n",
        "\n",
        "\n",
        "  *   The recovered matrices are a dense representation of the original expression matrices\n",
        "  *  Once the data is obtained this way, NeuMF cannot be applied for the simple reason that there are presumably no negative(unobserved/missing) instances.\n",
        "\n",
        "2. A second option will be to get the raw representation. This option will allow the application of NeuMF.\n",
        "\n",
        "---\n",
        "### Implementation Steps:\n",
        "\n",
        "1. Create a LIGER object with the raw data (stim & ctrl datasets)\n",
        "  -  This allows the recovery of a sparse gene by cell matrix.\n",
        "  - Cells not expressing any genes and genes not expressed in any cell are removed.\n",
        "  - Any remaining 0 is thus a \"true\" missing expression.\n",
        "  - Two sparse matrix representations will result; \"ctr_sparse\" and \"stim_sparse\"\n",
        "\n",
        "2. Feed the two sparse representations separately through the network. \n",
        "  - This will produce two dense representations of the sparse versions.\n",
        "  - The NeuMF will leverage any existing non-linear relationship between the cells and genes whiles maintaining the usual linear operations for better predictions.\n",
        "\n",
        "3. Using these two dense representations create a LIGER object with placeholders for H1, H2, V1, V2 and the shared matrix W.\n",
        "\n",
        "4. Scale and normalize the values of the resulting object. This ensures each gene has the same variance and also accounts for varying sequencing depths.\n",
        "\n",
        "5. Run the NMF algorithm from LIGER to get values for the matrices in (3)\n",
        "\n",
        "6. Build the shared neighbourhood graph and carry out the clustering. Implementation can be done with the LIGER package.\n",
        "\n",
        "---\n",
        "---\n",
        "\n",
        "## (D) Why this gives better clusters\n",
        "\n",
        "    ** will denote the paper implementation\n",
        "    *** will denote the corresponding implemntation in NeuMF\n",
        "---\n",
        "\n",
        "1. ### Factorization Method:\n",
        "\n",
        "---\n",
        "  ** -- Finds the matrices (of reduced dimensions) in (C)(3) by minimizing the penealized frobenius norm squared error between the observed and estimated matrices.\n",
        "\n",
        "  *** -- Finds some two lower dimensional matrics say U & V, that densely approximates the observed expression matrix by minimizing the MSE.\n",
        "\n",
        "  * The two loss functions are similar and differ only by a transformation.\n",
        "\n",
        "---\n",
        "\n",
        "2. ### Optimization Algorithm:\n",
        "\n",
        "---\n",
        "\n",
        "  **  -- Uses Block Cordinate Descent. It iteratively minimizes the factorization objective by making use of profiling. Convergence (local min) is guaranteed.\n",
        "\n",
        "  *** -- Uses Stochastic Gradient Descent. Simultaneously update model network parameters to minimze the loss function. Convergence is not guaranteed but saddle points in deep networks have shown to produce optimal functions than their shallow counterparts (BCD can be formulated as such).\n",
        "\n",
        "---\n",
        "\n",
        "3. ### Prediction Function:\n",
        "\n",
        "---\n",
        "\n",
        "  **  -- Basically a linear approximation.\n",
        "\n",
        "  *** -- Introduces non-linearities via the activation fucntions.\n",
        "\n",
        "---\n",
        "\n",
        "* For any cell gene expression matrix, NeuMF will always perform atleast as well as NMF Liger implementation. Performance will be indistninguishable if only linear (unlikely) relationship is present.\n",
        "\n",
        "* For the same factor specification k, performing Liger NMF on a dense output from NeuMF will not have any impact.\n",
        "\n",
        "* The above is why it makes sense to create a LIGER object with the matrices from NeuMF and cluster based on LIGERs NNB implementation.\n",
        "\n",
        "---"
      ]
    },
    {
      "cell_type": "markdown",
      "metadata": {
        "colab_type": "text",
        "id": "pKq2U_eCm4Vz"
      },
      "source": [
        "## **Code**"
      ]
    },
    {
      "cell_type": "code",
      "metadata": {
        "colab_type": "code",
        "id": "cG9sxo1PcVRh",
        "trusted": true,
        "colab": {
          "base_uri": "https://localhost:8080/",
          "height": 241
        },
        "outputId": "e45e0a80-4b15-4715-cfcf-7bf8c025537c"
      },
      "source": [
        "# load packages\n",
        "import csv\n",
        "import math\n",
        "import time\n",
        "import numpy as np\n",
        "import scipy as sc\n",
        "import pandas as pd\n",
        "from tqdm import tqdm\n",
        "import urllib.request as urllib\n",
        "#import tensorflow as tf\n",
        "import tensorflow.compat.v1 as tf\n",
        "tf.disable_v2_behavior() \n",
        "from sklearn.manifold import TSNE\n",
        "import sklearn.cluster as cluster\n",
        "from sklearn.utils import shuffle\n",
        "from mpl_toolkits.mplot3d import Axes3D\n",
        "import matplotlib.pyplot as plt\n",
        "%matplotlib inline\n",
        "from sklearn.metrics import adjusted_rand_score, adjusted_mutual_info_score"
      ],
      "execution_count": null,
      "outputs": [
        {
          "output_type": "stream",
          "text": [
            "WARNING:tensorflow:From /anaconda/envs/py36/lib/python3.6/site-packages/tensorflow_core/python/compat/v2_compat.py:65: disable_resource_variables (from tensorflow.python.ops.variable_scope) is deprecated and will be removed in a future version.\n",
            "Instructions for updating:\n",
            "non-resource variables are not supported in the long term\n"
          ],
          "name": "stdout"
        }
      ]
    },
    {
      "cell_type": "markdown",
      "metadata": {
        "colab_type": "text",
        "id": "IDREwBw_nVIz"
      },
      "source": [
        "## **(1) Load and Process Data**"
      ]
    },
    {
      "cell_type": "code",
      "metadata": {
        "colab_type": "code",
        "id": "eu4v8rZD_0v0",
        "trusted": true,
        "colab": {}
      },
      "source": [
        "# load data\n",
        "url = 'https://sixtusdakurah.com/projects/liger/stim_sparse_dfp.csv'\n",
        "ctrl_sparse = pd.read_csv(url, sep=\",\", header=0)\n",
        "ctrl_sparse = ctrl_sparse.rename(columns={'Unnamed: 0': 'gene'})"
      ],
      "execution_count": null,
      "outputs": []
    },
    {
      "cell_type": "code",
      "metadata": {
        "colab_type": "code",
        "id": "DXU4LaYfBUvk",
        "trusted": true,
        "colab": {
          "base_uri": "https://localhost:8080/",
          "height": 270
        },
        "outputId": "6b36d2a2-3675-4cfd-a9c7-ce6412e241d7"
      },
      "source": [
        "# check dimensions and get brief view\n",
        "ctrl_sparse.head()"
      ],
      "execution_count": null,
      "outputs": [
        {
          "output_type": "execute_result",
          "data": {
            "text/html": [
              "<div>\n",
              "<style scoped>\n",
              "    .dataframe tbody tr th:only-of-type {\n",
              "        vertical-align: middle;\n",
              "    }\n",
              "\n",
              "    .dataframe tbody tr th {\n",
              "        vertical-align: top;\n",
              "    }\n",
              "\n",
              "    .dataframe thead th {\n",
              "        text-align: right;\n",
              "    }\n",
              "</style>\n",
              "<table border=\"1\" class=\"dataframe\">\n",
              "  <thead>\n",
              "    <tr style=\"text-align: right;\">\n",
              "      <th></th>\n",
              "      <th>gene</th>\n",
              "      <th>stimAGGACACTCATGGT-1</th>\n",
              "      <th>stimCCCTTACTTTGCGA-1</th>\n",
              "      <th>stimGCTACCTGTGGTCA-1</th>\n",
              "      <th>stimTCCTAATGTCTCTA-1</th>\n",
              "      <th>stimTAGCCCTGACCTCC-1</th>\n",
              "      <th>stimGGTCTAGAAGTGTC-1</th>\n",
              "      <th>stimTGACGAACTACGCA-1</th>\n",
              "      <th>stimTCATTCGATTTACC-1</th>\n",
              "      <th>stimAGGTACTGTTCCAT-1</th>\n",
              "      <th>...</th>\n",
              "      <th>stimCCGCTATGGTCCTC-1</th>\n",
              "      <th>stimATCTTGACGCTGAT-1</th>\n",
              "      <th>stimCGGTCACTAGCACT-1</th>\n",
              "      <th>stimAATCTCTGGTATGC-1</th>\n",
              "      <th>stimCGGTACCTAGATGA-1</th>\n",
              "      <th>stimTTGGTACTTTCCCG-1</th>\n",
              "      <th>stimGGAGGCCTTTTACC-1</th>\n",
              "      <th>stimTGCAGATGACCGAT-1</th>\n",
              "      <th>stimACTCCTCTACGGAG-1</th>\n",
              "      <th>stimGCATTGGATATGCG-1</th>\n",
              "    </tr>\n",
              "  </thead>\n",
              "  <tbody>\n",
              "    <tr>\n",
              "      <th>0</th>\n",
              "      <td>AL627309.1</td>\n",
              "      <td>0</td>\n",
              "      <td>0</td>\n",
              "      <td>0</td>\n",
              "      <td>0</td>\n",
              "      <td>0</td>\n",
              "      <td>0</td>\n",
              "      <td>0</td>\n",
              "      <td>0</td>\n",
              "      <td>0</td>\n",
              "      <td>...</td>\n",
              "      <td>0</td>\n",
              "      <td>0</td>\n",
              "      <td>0</td>\n",
              "      <td>0</td>\n",
              "      <td>0</td>\n",
              "      <td>0</td>\n",
              "      <td>0</td>\n",
              "      <td>0</td>\n",
              "      <td>0</td>\n",
              "      <td>0</td>\n",
              "    </tr>\n",
              "    <tr>\n",
              "      <th>1</th>\n",
              "      <td>RP11.206L10.2</td>\n",
              "      <td>0</td>\n",
              "      <td>0</td>\n",
              "      <td>0</td>\n",
              "      <td>0</td>\n",
              "      <td>0</td>\n",
              "      <td>0</td>\n",
              "      <td>0</td>\n",
              "      <td>0</td>\n",
              "      <td>0</td>\n",
              "      <td>...</td>\n",
              "      <td>0</td>\n",
              "      <td>0</td>\n",
              "      <td>0</td>\n",
              "      <td>0</td>\n",
              "      <td>0</td>\n",
              "      <td>0</td>\n",
              "      <td>0</td>\n",
              "      <td>0</td>\n",
              "      <td>0</td>\n",
              "      <td>0</td>\n",
              "    </tr>\n",
              "    <tr>\n",
              "      <th>2</th>\n",
              "      <td>RP11.206L10.9</td>\n",
              "      <td>0</td>\n",
              "      <td>0</td>\n",
              "      <td>0</td>\n",
              "      <td>0</td>\n",
              "      <td>0</td>\n",
              "      <td>0</td>\n",
              "      <td>0</td>\n",
              "      <td>0</td>\n",
              "      <td>0</td>\n",
              "      <td>...</td>\n",
              "      <td>0</td>\n",
              "      <td>0</td>\n",
              "      <td>0</td>\n",
              "      <td>0</td>\n",
              "      <td>0</td>\n",
              "      <td>0</td>\n",
              "      <td>0</td>\n",
              "      <td>0</td>\n",
              "      <td>0</td>\n",
              "      <td>0</td>\n",
              "    </tr>\n",
              "    <tr>\n",
              "      <th>3</th>\n",
              "      <td>LINC00115</td>\n",
              "      <td>0</td>\n",
              "      <td>0</td>\n",
              "      <td>0</td>\n",
              "      <td>0</td>\n",
              "      <td>0</td>\n",
              "      <td>0</td>\n",
              "      <td>0</td>\n",
              "      <td>0</td>\n",
              "      <td>0</td>\n",
              "      <td>...</td>\n",
              "      <td>0</td>\n",
              "      <td>0</td>\n",
              "      <td>0</td>\n",
              "      <td>0</td>\n",
              "      <td>0</td>\n",
              "      <td>0</td>\n",
              "      <td>0</td>\n",
              "      <td>0</td>\n",
              "      <td>0</td>\n",
              "      <td>0</td>\n",
              "    </tr>\n",
              "    <tr>\n",
              "      <th>4</th>\n",
              "      <td>NOC2L</td>\n",
              "      <td>0</td>\n",
              "      <td>0</td>\n",
              "      <td>0</td>\n",
              "      <td>0</td>\n",
              "      <td>0</td>\n",
              "      <td>0</td>\n",
              "      <td>0</td>\n",
              "      <td>0</td>\n",
              "      <td>0</td>\n",
              "      <td>...</td>\n",
              "      <td>0</td>\n",
              "      <td>0</td>\n",
              "      <td>0</td>\n",
              "      <td>0</td>\n",
              "      <td>0</td>\n",
              "      <td>0</td>\n",
              "      <td>0</td>\n",
              "      <td>0</td>\n",
              "      <td>0</td>\n",
              "      <td>0</td>\n",
              "    </tr>\n",
              "  </tbody>\n",
              "</table>\n",
              "<p>5 rows × 3001 columns</p>\n",
              "</div>"
            ],
            "text/plain": [
              "            gene  stimAGGACACTCATGGT-1  stimCCCTTACTTTGCGA-1  \\\n",
              "0     AL627309.1                     0                     0   \n",
              "1  RP11.206L10.2                     0                     0   \n",
              "2  RP11.206L10.9                     0                     0   \n",
              "3      LINC00115                     0                     0   \n",
              "4          NOC2L                     0                     0   \n",
              "\n",
              "   stimGCTACCTGTGGTCA-1  stimTCCTAATGTCTCTA-1  stimTAGCCCTGACCTCC-1  \\\n",
              "0                     0                     0                     0   \n",
              "1                     0                     0                     0   \n",
              "2                     0                     0                     0   \n",
              "3                     0                     0                     0   \n",
              "4                     0                     0                     0   \n",
              "\n",
              "   stimGGTCTAGAAGTGTC-1  stimTGACGAACTACGCA-1  stimTCATTCGATTTACC-1  \\\n",
              "0                     0                     0                     0   \n",
              "1                     0                     0                     0   \n",
              "2                     0                     0                     0   \n",
              "3                     0                     0                     0   \n",
              "4                     0                     0                     0   \n",
              "\n",
              "   stimAGGTACTGTTCCAT-1          ...           stimCCGCTATGGTCCTC-1  \\\n",
              "0                     0          ...                              0   \n",
              "1                     0          ...                              0   \n",
              "2                     0          ...                              0   \n",
              "3                     0          ...                              0   \n",
              "4                     0          ...                              0   \n",
              "\n",
              "   stimATCTTGACGCTGAT-1  stimCGGTCACTAGCACT-1  stimAATCTCTGGTATGC-1  \\\n",
              "0                     0                     0                     0   \n",
              "1                     0                     0                     0   \n",
              "2                     0                     0                     0   \n",
              "3                     0                     0                     0   \n",
              "4                     0                     0                     0   \n",
              "\n",
              "   stimCGGTACCTAGATGA-1  stimTTGGTACTTTCCCG-1  stimGGAGGCCTTTTACC-1  \\\n",
              "0                     0                     0                     0   \n",
              "1                     0                     0                     0   \n",
              "2                     0                     0                     0   \n",
              "3                     0                     0                     0   \n",
              "4                     0                     0                     0   \n",
              "\n",
              "   stimTGCAGATGACCGAT-1  stimACTCCTCTACGGAG-1  stimGCATTGGATATGCG-1  \n",
              "0                     0                     0                     0  \n",
              "1                     0                     0                     0  \n",
              "2                     0                     0                     0  \n",
              "3                     0                     0                     0  \n",
              "4                     0                     0                     0  \n",
              "\n",
              "[5 rows x 3001 columns]"
            ]
          },
          "metadata": {
            "tags": []
          },
          "execution_count": 3
        }
      ]
    },
    {
      "cell_type": "code",
      "metadata": {
        "colab_type": "code",
        "id": "eIe3xYHSKHFR",
        "trusted": true,
        "colab": {
          "base_uri": "https://localhost:8080/",
          "height": 34
        },
        "outputId": "868d7d1e-887e-4602-e9f5-3cf114b400d2"
      },
      "source": [
        "print(\"Shape of Ctrl: \", ctrl_sparse.shape)"
      ],
      "execution_count": null,
      "outputs": [
        {
          "output_type": "stream",
          "text": [
            "Shape of Ctrl:  (14578, 3001)\n"
          ],
          "name": "stdout"
        }
      ]
    },
    {
      "cell_type": "code",
      "metadata": {
        "colab_type": "code",
        "id": "VeKqZb4XKlTj",
        "trusted": true,
        "colab": {}
      },
      "source": [
        "ctr_E_df = ctrl_sparse#.iloc[0:6000, 0:3001]\n",
        "# convert to long format\n",
        "ctr_E_df_long = pd.melt(ctr_E_df, id_vars=['gene'],var_name='cell', value_name='expression')"
      ],
      "execution_count": null,
      "outputs": []
    },
    {
      "cell_type": "code",
      "metadata": {
        "colab_type": "code",
        "id": "_LCsLD3nK_tf",
        "trusted": true,
        "colab": {
          "base_uri": "https://localhost:8080/",
          "height": 270
        },
        "outputId": "e0468932-7381-4da9-9393-2d83cbdd8c90"
      },
      "source": [
        "ctr_E_df.head()"
      ],
      "execution_count": null,
      "outputs": [
        {
          "output_type": "execute_result",
          "data": {
            "text/html": [
              "<div>\n",
              "<style scoped>\n",
              "    .dataframe tbody tr th:only-of-type {\n",
              "        vertical-align: middle;\n",
              "    }\n",
              "\n",
              "    .dataframe tbody tr th {\n",
              "        vertical-align: top;\n",
              "    }\n",
              "\n",
              "    .dataframe thead th {\n",
              "        text-align: right;\n",
              "    }\n",
              "</style>\n",
              "<table border=\"1\" class=\"dataframe\">\n",
              "  <thead>\n",
              "    <tr style=\"text-align: right;\">\n",
              "      <th></th>\n",
              "      <th>gene</th>\n",
              "      <th>stimAGGACACTCATGGT-1</th>\n",
              "      <th>stimCCCTTACTTTGCGA-1</th>\n",
              "      <th>stimGCTACCTGTGGTCA-1</th>\n",
              "      <th>stimTCCTAATGTCTCTA-1</th>\n",
              "      <th>stimTAGCCCTGACCTCC-1</th>\n",
              "      <th>stimGGTCTAGAAGTGTC-1</th>\n",
              "      <th>stimTGACGAACTACGCA-1</th>\n",
              "      <th>stimTCATTCGATTTACC-1</th>\n",
              "      <th>stimAGGTACTGTTCCAT-1</th>\n",
              "      <th>...</th>\n",
              "      <th>stimCCGCTATGGTCCTC-1</th>\n",
              "      <th>stimATCTTGACGCTGAT-1</th>\n",
              "      <th>stimCGGTCACTAGCACT-1</th>\n",
              "      <th>stimAATCTCTGGTATGC-1</th>\n",
              "      <th>stimCGGTACCTAGATGA-1</th>\n",
              "      <th>stimTTGGTACTTTCCCG-1</th>\n",
              "      <th>stimGGAGGCCTTTTACC-1</th>\n",
              "      <th>stimTGCAGATGACCGAT-1</th>\n",
              "      <th>stimACTCCTCTACGGAG-1</th>\n",
              "      <th>stimGCATTGGATATGCG-1</th>\n",
              "    </tr>\n",
              "  </thead>\n",
              "  <tbody>\n",
              "    <tr>\n",
              "      <th>0</th>\n",
              "      <td>AL627309.1</td>\n",
              "      <td>0</td>\n",
              "      <td>0</td>\n",
              "      <td>0</td>\n",
              "      <td>0</td>\n",
              "      <td>0</td>\n",
              "      <td>0</td>\n",
              "      <td>0</td>\n",
              "      <td>0</td>\n",
              "      <td>0</td>\n",
              "      <td>...</td>\n",
              "      <td>0</td>\n",
              "      <td>0</td>\n",
              "      <td>0</td>\n",
              "      <td>0</td>\n",
              "      <td>0</td>\n",
              "      <td>0</td>\n",
              "      <td>0</td>\n",
              "      <td>0</td>\n",
              "      <td>0</td>\n",
              "      <td>0</td>\n",
              "    </tr>\n",
              "    <tr>\n",
              "      <th>1</th>\n",
              "      <td>RP11.206L10.2</td>\n",
              "      <td>0</td>\n",
              "      <td>0</td>\n",
              "      <td>0</td>\n",
              "      <td>0</td>\n",
              "      <td>0</td>\n",
              "      <td>0</td>\n",
              "      <td>0</td>\n",
              "      <td>0</td>\n",
              "      <td>0</td>\n",
              "      <td>...</td>\n",
              "      <td>0</td>\n",
              "      <td>0</td>\n",
              "      <td>0</td>\n",
              "      <td>0</td>\n",
              "      <td>0</td>\n",
              "      <td>0</td>\n",
              "      <td>0</td>\n",
              "      <td>0</td>\n",
              "      <td>0</td>\n",
              "      <td>0</td>\n",
              "    </tr>\n",
              "    <tr>\n",
              "      <th>2</th>\n",
              "      <td>RP11.206L10.9</td>\n",
              "      <td>0</td>\n",
              "      <td>0</td>\n",
              "      <td>0</td>\n",
              "      <td>0</td>\n",
              "      <td>0</td>\n",
              "      <td>0</td>\n",
              "      <td>0</td>\n",
              "      <td>0</td>\n",
              "      <td>0</td>\n",
              "      <td>...</td>\n",
              "      <td>0</td>\n",
              "      <td>0</td>\n",
              "      <td>0</td>\n",
              "      <td>0</td>\n",
              "      <td>0</td>\n",
              "      <td>0</td>\n",
              "      <td>0</td>\n",
              "      <td>0</td>\n",
              "      <td>0</td>\n",
              "      <td>0</td>\n",
              "    </tr>\n",
              "    <tr>\n",
              "      <th>3</th>\n",
              "      <td>LINC00115</td>\n",
              "      <td>0</td>\n",
              "      <td>0</td>\n",
              "      <td>0</td>\n",
              "      <td>0</td>\n",
              "      <td>0</td>\n",
              "      <td>0</td>\n",
              "      <td>0</td>\n",
              "      <td>0</td>\n",
              "      <td>0</td>\n",
              "      <td>...</td>\n",
              "      <td>0</td>\n",
              "      <td>0</td>\n",
              "      <td>0</td>\n",
              "      <td>0</td>\n",
              "      <td>0</td>\n",
              "      <td>0</td>\n",
              "      <td>0</td>\n",
              "      <td>0</td>\n",
              "      <td>0</td>\n",
              "      <td>0</td>\n",
              "    </tr>\n",
              "    <tr>\n",
              "      <th>4</th>\n",
              "      <td>NOC2L</td>\n",
              "      <td>0</td>\n",
              "      <td>0</td>\n",
              "      <td>0</td>\n",
              "      <td>0</td>\n",
              "      <td>0</td>\n",
              "      <td>0</td>\n",
              "      <td>0</td>\n",
              "      <td>0</td>\n",
              "      <td>0</td>\n",
              "      <td>...</td>\n",
              "      <td>0</td>\n",
              "      <td>0</td>\n",
              "      <td>0</td>\n",
              "      <td>0</td>\n",
              "      <td>0</td>\n",
              "      <td>0</td>\n",
              "      <td>0</td>\n",
              "      <td>0</td>\n",
              "      <td>0</td>\n",
              "      <td>0</td>\n",
              "    </tr>\n",
              "  </tbody>\n",
              "</table>\n",
              "<p>5 rows × 3001 columns</p>\n",
              "</div>"
            ],
            "text/plain": [
              "            gene  stimAGGACACTCATGGT-1  stimCCCTTACTTTGCGA-1  \\\n",
              "0     AL627309.1                     0                     0   \n",
              "1  RP11.206L10.2                     0                     0   \n",
              "2  RP11.206L10.9                     0                     0   \n",
              "3      LINC00115                     0                     0   \n",
              "4          NOC2L                     0                     0   \n",
              "\n",
              "   stimGCTACCTGTGGTCA-1  stimTCCTAATGTCTCTA-1  stimTAGCCCTGACCTCC-1  \\\n",
              "0                     0                     0                     0   \n",
              "1                     0                     0                     0   \n",
              "2                     0                     0                     0   \n",
              "3                     0                     0                     0   \n",
              "4                     0                     0                     0   \n",
              "\n",
              "   stimGGTCTAGAAGTGTC-1  stimTGACGAACTACGCA-1  stimTCATTCGATTTACC-1  \\\n",
              "0                     0                     0                     0   \n",
              "1                     0                     0                     0   \n",
              "2                     0                     0                     0   \n",
              "3                     0                     0                     0   \n",
              "4                     0                     0                     0   \n",
              "\n",
              "   stimAGGTACTGTTCCAT-1          ...           stimCCGCTATGGTCCTC-1  \\\n",
              "0                     0          ...                              0   \n",
              "1                     0          ...                              0   \n",
              "2                     0          ...                              0   \n",
              "3                     0          ...                              0   \n",
              "4                     0          ...                              0   \n",
              "\n",
              "   stimATCTTGACGCTGAT-1  stimCGGTCACTAGCACT-1  stimAATCTCTGGTATGC-1  \\\n",
              "0                     0                     0                     0   \n",
              "1                     0                     0                     0   \n",
              "2                     0                     0                     0   \n",
              "3                     0                     0                     0   \n",
              "4                     0                     0                     0   \n",
              "\n",
              "   stimCGGTACCTAGATGA-1  stimTTGGTACTTTCCCG-1  stimGGAGGCCTTTTACC-1  \\\n",
              "0                     0                     0                     0   \n",
              "1                     0                     0                     0   \n",
              "2                     0                     0                     0   \n",
              "3                     0                     0                     0   \n",
              "4                     0                     0                     0   \n",
              "\n",
              "   stimTGCAGATGACCGAT-1  stimACTCCTCTACGGAG-1  stimGCATTGGATATGCG-1  \n",
              "0                     0                     0                     0  \n",
              "1                     0                     0                     0  \n",
              "2                     0                     0                     0  \n",
              "3                     0                     0                     0  \n",
              "4                     0                     0                     0  \n",
              "\n",
              "[5 rows x 3001 columns]"
            ]
          },
          "metadata": {
            "tags": []
          },
          "execution_count": 6
        }
      ]
    },
    {
      "cell_type": "code",
      "metadata": {
        "colab_type": "code",
        "id": "lkyMJunX3eQq",
        "trusted": true,
        "colab": {
          "base_uri": "https://localhost:8080/",
          "height": 204
        },
        "outputId": "2bd115da-1325-4fdb-9cef-028e1598989f"
      },
      "source": [
        "ctr_E_df_long.head()"
      ],
      "execution_count": null,
      "outputs": [
        {
          "output_type": "execute_result",
          "data": {
            "text/html": [
              "<div>\n",
              "<style scoped>\n",
              "    .dataframe tbody tr th:only-of-type {\n",
              "        vertical-align: middle;\n",
              "    }\n",
              "\n",
              "    .dataframe tbody tr th {\n",
              "        vertical-align: top;\n",
              "    }\n",
              "\n",
              "    .dataframe thead th {\n",
              "        text-align: right;\n",
              "    }\n",
              "</style>\n",
              "<table border=\"1\" class=\"dataframe\">\n",
              "  <thead>\n",
              "    <tr style=\"text-align: right;\">\n",
              "      <th></th>\n",
              "      <th>gene</th>\n",
              "      <th>cell</th>\n",
              "      <th>expression</th>\n",
              "    </tr>\n",
              "  </thead>\n",
              "  <tbody>\n",
              "    <tr>\n",
              "      <th>0</th>\n",
              "      <td>AL627309.1</td>\n",
              "      <td>stimAGGACACTCATGGT-1</td>\n",
              "      <td>0</td>\n",
              "    </tr>\n",
              "    <tr>\n",
              "      <th>1</th>\n",
              "      <td>RP11.206L10.2</td>\n",
              "      <td>stimAGGACACTCATGGT-1</td>\n",
              "      <td>0</td>\n",
              "    </tr>\n",
              "    <tr>\n",
              "      <th>2</th>\n",
              "      <td>RP11.206L10.9</td>\n",
              "      <td>stimAGGACACTCATGGT-1</td>\n",
              "      <td>0</td>\n",
              "    </tr>\n",
              "    <tr>\n",
              "      <th>3</th>\n",
              "      <td>LINC00115</td>\n",
              "      <td>stimAGGACACTCATGGT-1</td>\n",
              "      <td>0</td>\n",
              "    </tr>\n",
              "    <tr>\n",
              "      <th>4</th>\n",
              "      <td>NOC2L</td>\n",
              "      <td>stimAGGACACTCATGGT-1</td>\n",
              "      <td>0</td>\n",
              "    </tr>\n",
              "  </tbody>\n",
              "</table>\n",
              "</div>"
            ],
            "text/plain": [
              "            gene                  cell  expression\n",
              "0     AL627309.1  stimAGGACACTCATGGT-1           0\n",
              "1  RP11.206L10.2  stimAGGACACTCATGGT-1           0\n",
              "2  RP11.206L10.9  stimAGGACACTCATGGT-1           0\n",
              "3      LINC00115  stimAGGACACTCATGGT-1           0\n",
              "4          NOC2L  stimAGGACACTCATGGT-1           0"
            ]
          },
          "metadata": {
            "tags": []
          },
          "execution_count": 7
        }
      ]
    },
    {
      "cell_type": "code",
      "metadata": {
        "colab_type": "code",
        "id": "FS0xeH4nLKrW",
        "trusted": true,
        "colab": {
          "base_uri": "https://localhost:8080/",
          "height": 85
        },
        "outputId": "6bebaeb9-8292-4399-9222-644da655c70d"
      },
      "source": [
        "(ctr_E_df_long == 0).astype(int).sum(axis=0)"
      ],
      "execution_count": null,
      "outputs": [
        {
          "output_type": "execute_result",
          "data": {
            "text/plain": [
              "gene                 0\n",
              "cell                 0\n",
              "expression    41894690\n",
              "dtype: int64"
            ]
          },
          "metadata": {
            "tags": []
          },
          "execution_count": 8
        }
      ]
    },
    {
      "cell_type": "code",
      "metadata": {
        "colab_type": "code",
        "id": "pDYsclCeLY13",
        "trusted": true,
        "colab": {
          "base_uri": "https://localhost:8080/",
          "height": 51
        },
        "outputId": "b30c26df-03e6-4927-ce0e-3568792bb689"
      },
      "source": [
        "print(\"Unique genes: \", len((ctr_E_df_long['gene'].astype(\"category\").cat.codes).drop_duplicates()))#.sort_values()\n",
        "print(\"Unique cells: \",len((ctr_E_df_long['cell'].astype(\"category\").cat.codes).drop_duplicates()))"
      ],
      "execution_count": null,
      "outputs": [
        {
          "output_type": "stream",
          "text": [
            "Unique genes:  14578\n",
            "Unique cells:  3000\n"
          ],
          "name": "stdout"
        }
      ]
    },
    {
      "cell_type": "markdown",
      "metadata": {
        "colab_type": "text",
        "id": "YF77aCOvLmah"
      },
      "source": [
        "## **(2) Build Helper Functions**"
      ]
    },
    {
      "cell_type": "code",
      "metadata": {
        "colab_type": "code",
        "id": "60_GURI7LqOS",
        "trusted": true,
        "colab": {}
      },
      "source": [
        "# process data set\n",
        "def process_dataset(df):\n",
        "\n",
        "    # Convert cells names into numerical IDs\n",
        "    df['cell_id'] = df['cell'].astype(\"category\").cat.codes\n",
        "    df['gene_id'] = df['gene'].astype(\"category\").cat.codes\n",
        "\n",
        "    \n",
        "    gene_lookup = df[['gene_id', 'gene']].drop_duplicates()\n",
        "    gene_lookup['gene_id'] = gene_lookup.gene_id.astype(str)\n",
        "\n",
        "    # Grab the columns we need in the order we need them.\n",
        "    df = df[['cell_id', 'gene_id', 'expression']]\n",
        "\n",
        "    \n",
        "    #df_train, df_test = train_test_split(df) # 80 20\n",
        "    df_train, df_test = df, ''\n",
        "\n",
        "\n",
        "    \n",
        "    cells = list(np.sort(df.cell_id.unique()))\n",
        "    genes = list(np.sort(df.gene_id.unique()))\n",
        "\n",
        "    \n",
        "    rows = df_train.cell_id.astype(int)\n",
        "    cols = df_train.gene_id.astype(int)\n",
        "\n",
        "    values = list(df_train.expression)\n",
        "\n",
        "    # Get all user ids and item ids.\n",
        "    cids = np.array(rows.tolist())\n",
        "    gids = np.array(cols.tolist())\n",
        "\n",
        "    # Sample 100 negative interactions for each cell in our test data\n",
        "    df_neg = '' #get_negatives(cids, gids, genes, df_test)\n",
        "\n",
        "    return cids, gids, df_train, df_test, df_neg, cells, genes, gene_lookup, values"
      ],
      "execution_count": null,
      "outputs": []
    },
    {
      "cell_type": "code",
      "metadata": {
        "colab_type": "code",
        "id": "0OmveH4QLzkT",
        "trusted": true,
        "colab": {}
      },
      "source": [
        "# sample a couple of negatives for each positive label\n",
        "def get_negatives(cids, gids, genes, df_test):\n",
        "    \n",
        "    negativeList = []\n",
        "    test_c = df_test['cell_id'].values.tolist()\n",
        "    test_g = df_test['gene_id'].values.tolist()\n",
        "\n",
        "    test_expression_ids = list(zip(test_c, test_g))\n",
        "    zipped = set(zip(cids, gids))\n",
        "    #print(len(genes))\n",
        "\n",
        "    for (c, g) in test_expression_ids:\n",
        "        negatives = []\n",
        "        negatives.append((c, g))\n",
        "        for t in range(10):# increase for better accuracy\n",
        "            j = np.random.randint(len(genes)) # Get random gene id.\n",
        "            while (c, j) in zipped: # Check if there is an interaction\n",
        "                j = np.random.randint(len(genes)) # If yes, generate a new gene id\n",
        "            negatives.append(j) # Once a negative interaction is found we add it.\n",
        "            #print(\"J value is\", j)\n",
        "            #print(negatives)\n",
        "        negativeList.append(negatives)\n",
        "\n",
        "    df_neg = pd.DataFrame(negativeList)\n",
        "\n",
        "    return df_neg"
      ],
      "execution_count": null,
      "outputs": []
    },
    {
      "cell_type": "code",
      "metadata": {
        "colab_type": "code",
        "id": "1yT-Sp8_MBAg",
        "trusted": true,
        "colab": {}
      },
      "source": [
        "# mask the first gene to be used for testing\n",
        "def mask_first(x):\n",
        "    result = np.ones_like(x)\n",
        "    result[0] = 0\n",
        "    \n",
        "    return result\n",
        "\n",
        "# split into train and test set   \n",
        "def train_test_split(df):\n",
        "\n",
        "    df_test = df.copy(deep=True)\n",
        "    df_train = df.copy(deep=True)\n",
        "\n",
        "    df_test = df_test.groupby(['cell_id']).first()\n",
        "    df_test['cell_id'] = df_test.index\n",
        "    df_test = df_test[['cell_id', 'gene_id', 'expression']]\n",
        "    df_test.index.name = None\n",
        "\n",
        "    mask = df.groupby(['cell_id'])['cell_id'].transform(mask_first).astype(bool)\n",
        "    df_train = df.loc[mask]\n",
        "\n",
        "    return df_train, df_test\n",
        "\n",
        "# combine mask and train test split\n",
        "def get_train_instances():\n",
        "    \n",
        "    cell_input, gene_input, labels = [],[],[]\n",
        "    zipped = set(zip(cids, gids))\n",
        "    #progress = tqdm(total=len(zipped))\n",
        "    #tracker = 0\n",
        "    for (c, g) in zip(cids, gids):\n",
        "        # Add our positive interaction\n",
        "        cell_input.append(c)\n",
        "        gene_input.append(g)\n",
        "        labels.append((df_train[(df_train.cell_id==c)&(df_train.gene_id==g)]).expression.values[0])\n",
        "        #labels.append(1)\n",
        "\n",
        "        # Sample a number of random negative interactions\n",
        "        for t in range(num_neg):\n",
        "            j = np.random.randint(len(genes))\n",
        "            #j = j if j!=32 else np.random.randint(len(genes)) # chainging to more than 1 \n",
        "            while (c, j) in zipped:\n",
        "                j = np.random.randint(len(genes))\n",
        "                #j = rv+1 if rv==0 else rv\n",
        "            #print(\"gene value: \", j, \" cell value: \", c)\n",
        "            if j!=df_test.gene_id[0]:\n",
        "                \n",
        "                cell_input.append(c)\n",
        "                gene_input.append(j)\n",
        "              #print(\"gene value: \", j, \" cell value: \", c)\n",
        "              #labels.append(0)\n",
        "                labels.append((df_train[(df_train.cell_id==c)&(df_train.gene_id==j)]).expression.values[0])\n",
        "        #progress.update(1)\n",
        "        #progress.set_description('Sampled Training Instance' + str(tracker+1)) \n",
        "        #tracker+=1\n",
        "    #progress.close()\n",
        "    return cell_input, gene_input, labels\n",
        "\n",
        "# for faster training\n",
        "def random_mini_batches(C, G, L, mini_batch_size=20):\n",
        "\n",
        "    mini_batches = []\n",
        "\n",
        "    shuffled_C, shuffled_G, shuffled_L = shuffle(C, G, L, random_state=0)\n",
        "\n",
        "    num_complete_batches = int(math.floor(len(C)/mini_batch_size))\n",
        "    for k in range(0, num_complete_batches):\n",
        "        mini_batch_C = shuffled_C[k * mini_batch_size : k * mini_batch_size + mini_batch_size]\n",
        "        mini_batch_G = shuffled_G[k * mini_batch_size : k * mini_batch_size + mini_batch_size]\n",
        "        mini_batch_L = shuffled_L[k * mini_batch_size : k * mini_batch_size + mini_batch_size]\n",
        "\n",
        "        mini_batch = (mini_batch_C, mini_batch_G, mini_batch_L)\n",
        "        mini_batches.append(mini_batch)\n",
        "\n",
        "    if len(C) % mini_batch_size != 0:\n",
        "        mini_batch_C = shuffled_C[num_complete_batches * mini_batch_size: len(C)]\n",
        "        mini_batch_G = shuffled_G[num_complete_batches * mini_batch_size: len(C)]\n",
        "        mini_batch_L = shuffled_L[num_complete_batches * mini_batch_size: len(C)]\n",
        "\n",
        "        mini_batch = (mini_batch_C, mini_batch_G, mini_batch_L)\n",
        "        mini_batches.append(mini_batch)\n",
        "\n",
        "    return mini_batches"
      ],
      "execution_count": null,
      "outputs": []
    },
    {
      "cell_type": "code",
      "metadata": {
        "colab_type": "code",
        "id": "Jt-OkNr4NElH",
        "trusted": true,
        "colab": {}
      },
      "source": [
        "# evaluation\n",
        "def get_hits(k_ranked, holdout):\n",
        "    for gene in k_ranked:\n",
        "        if gene == holdout:\n",
        "            return 1\n",
        "    return 0\n",
        "\n",
        "def eval_rating(idx, test_expression, test_negatives, K):\n",
        "    # test_expression = test_expression_ids\n",
        "    map_gene_score = {}\n",
        "\n",
        "    \n",
        "    genes = test_negatives[idx]\n",
        "\n",
        "    \n",
        "    cell_idx = test_expression[idx][0]\n",
        "\n",
        "    \n",
        "    holdout = test_expression[idx][1]\n",
        "    print(\"Holdout: \", holdout)\n",
        "\n",
        "    \n",
        "    genes.append(holdout)\n",
        "\n",
        "    \n",
        "    predict_cell = np.full(len(genes), cell_idx, dtype='int32').reshape(-1,1)\n",
        "    print(\"Predict cell: \", predict_cell)\n",
        "    np_genes = np.array(genes).reshape(-1,1)\n",
        "    print(\"Genes: \", genes)\n",
        "\n",
        "    \n",
        "    predictions = session.run([output_layer], feed_dict={cell: predict_cell, gene: np_genes})\n",
        "    print(\"Predictions: \", predictions)\n",
        "    \n",
        "    predictions = predictions[0].flatten().tolist()\n",
        "\n",
        "    \n",
        "    for i in range(len(genes)):\n",
        "        current_gene = genes[i]\n",
        "        map_gene_score[current_gene] = predictions[i]\n",
        "\n",
        "    \n",
        "    k_ranked = heapq.nlargest(K, map_gene_score, key=map_gene_score.get)\n",
        "    print(\"K Ranked: \", k_ranked)\n",
        "\n",
        "       \n",
        "    hits = get_hits(k_ranked, holdout)\n",
        "\n",
        "    return hits\n",
        "\n",
        "# \n",
        "def evaluate(df_neg, K=10):\n",
        "\n",
        "    hits = []\n",
        "\n",
        "    test_c = df_test['cell_id'].values.tolist()\n",
        "    test_g = df_test['gene_id'].values.tolist()\n",
        "\n",
        "    test_expression_ids = list(zip(test_c, test_g))\n",
        "\n",
        "    df_neg = df_neg.drop(df_neg.columns[0], axis=1)\n",
        "    test_negatives = df_neg.values.tolist()\n",
        "    #len(test_expression)-2\n",
        "    for idx in range(len(test_expression_ids)):\n",
        "        # For each idx, call eval_one_rating\n",
        "        hitrate = eval_rating(idx, test_expression_ids, test_negatives, K)\n",
        "        hits.append(hitrate)\n",
        "\n",
        "    return hits\n",
        "\n",
        "\n",
        "def poisson_loss(y_true, y_pred):\n",
        "    y_pred = tf.cast(y_pred, tf.float32)\n",
        "    y_true = tf.cast(y_true, tf.float32)\n",
        "    f1 = tf.multiply(y_true, tf.log(tf.add(y_pred, 1e-10)))\n",
        "    nice_bound = tf.add(tf.lgamma(y_pred), 1)\n",
        "    fbound = tf.subtract(f1, nice_bound)\n",
        "    return tf.reduce_mean(tf.square(tf.subtract(y_pred, fbound)))"
      ],
      "execution_count": null,
      "outputs": []
    },
    {
      "cell_type": "code",
      "metadata": {
        "colab_type": "code",
        "id": "mDDYxAeHNUr7",
        "trusted": true,
        "colab": {}
      },
      "source": [
        "def make_recommendation(cell_ids=None, gene_ids = None, top=None):\n",
        "    # make recommendations for all\n",
        "    df = pd.DataFrame()\n",
        "    df[\"Gene\"] = (ctr_E_df_long.gene_id).unique()\n",
        "    for cell_idx in np.sort((ctr_E_df_long.cell_id).unique()):\n",
        "        # get the genes for the given cell\n",
        "        genes = ((ctr_E_df_long[ctr_E_df_long.cell_id==cell_idx]).gene_id).values\n",
        "        #cell_ls = [cell_idx]# * len(genes)\n",
        "        # create a full gene prediction for a cell\n",
        "        predict_cell = np.full(len(genes), cell_idx, dtype='int32').reshape(-1,1)\n",
        "        np_genes = np.array(genes).reshape(-1,1)\n",
        "        \n",
        "        #run with the given session\n",
        "        predictions = session.run([output_layer], feed_dict={cell: predict_cell, gene: np_genes})\n",
        "        #print(\"Predictions: \", predictions)\n",
        "\n",
        "        predictions = predictions[0].flatten().tolist()\n",
        "        df[cell_idx] = predictions\n",
        " \n",
        "    return df\n",
        "\n",
        "# try basic k-means clustering\n",
        "# def kMeans_clustering(k=10):\n",
        "    \n",
        "    \n",
        "#       kmeans_labels = cluster.KMeans(n_clusters=k).fit_predict(mlp_df)\n",
        "#       standard_embedding = umap.UMAP(random_state=42).fit_transform(mlp_df)\n",
        "#       newdf = pd.DataFrame(standard_embedding, columns = [\"x1\", \"x2\"])\n",
        "#       newdf[\"cluster\"] = kmeans_labels\n",
        "#       # make the plot\n",
        "#       size = 80\n",
        "#       plt.figure(figsize=(16,10))\n",
        "#       sc = plt.scatter(newdf['x1'], newdf['x2'], s=size, c=newdf['cluster'], edgecolors='none')\n",
        "\n",
        "#       lp = lambda i: plt.plot([],color=sc.cmap(sc.norm(i)), ms=np.sqrt(size), mec=\"none\",\n",
        "#                               label=\"Cluster {:g}\".format(i), ls=\"\", marker=\"o\")[0]\n",
        "#       handles = [lp(i) for i in np.unique(newdf[\"cluster\"])]\n",
        "#       plt.legend(handles=handles)\n",
        "#       plt.xlabel(\"Umap 1\")\n",
        "#       plt.ylabel(\"Umap 2\")\n",
        "#       plt.show()"
      ],
      "execution_count": null,
      "outputs": []
    },
    {
      "cell_type": "code",
      "metadata": {
        "colab_type": "code",
        "id": "Ucy3A3s6S4xg",
        "trusted": true,
        "colab": {}
      },
      "source": [
        "cids, gids, df_train, df_test, df_neg, cells, genes, gene_lookup, values = process_dataset(ctr_E_df_long)"
      ],
      "execution_count": null,
      "outputs": []
    },
    {
      "cell_type": "code",
      "metadata": {
        "colab_type": "code",
        "id": "HO-14hk4Tw2n",
        "trusted": true,
        "colab": {
          "base_uri": "https://localhost:8080/",
          "height": 51
        },
        "outputId": "05d90a99-2db0-47eb-e4d2-dde01b26e326"
      },
      "source": [
        "print(\"Unique train genes: \", len((df_train['gene_id']).drop_duplicates()))\n",
        "print(\"Unique train cells: \", len((df_train['cell_id']).drop_duplicates()))\n",
        "#print(\"Unique test genes: \", len((df_test['gene_id']).drop_duplicates()))\n",
        "#print(\"Unique test cells: \",len((df_test['cell_id']).drop_duplicates()))"
      ],
      "execution_count": null,
      "outputs": [
        {
          "output_type": "stream",
          "text": [
            "Unique train genes:  14578\n",
            "Unique train cells:  3000\n"
          ],
          "name": "stdout"
        }
      ]
    },
    {
      "cell_type": "code",
      "metadata": {
        "colab_type": "code",
        "id": "fdIBDZFq6TKR",
        "trusted": true,
        "colab": {
          "base_uri": "https://localhost:8080/",
          "height": 204
        },
        "outputId": "6f86890e-0a4d-453a-f065-0ba5cba0e45e"
      },
      "source": [
        "df_train.head()"
      ],
      "execution_count": null,
      "outputs": [
        {
          "output_type": "execute_result",
          "data": {
            "text/html": [
              "<div>\n",
              "<style scoped>\n",
              "    .dataframe tbody tr th:only-of-type {\n",
              "        vertical-align: middle;\n",
              "    }\n",
              "\n",
              "    .dataframe tbody tr th {\n",
              "        vertical-align: top;\n",
              "    }\n",
              "\n",
              "    .dataframe thead th {\n",
              "        text-align: right;\n",
              "    }\n",
              "</style>\n",
              "<table border=\"1\" class=\"dataframe\">\n",
              "  <thead>\n",
              "    <tr style=\"text-align: right;\">\n",
              "      <th></th>\n",
              "      <th>cell_id</th>\n",
              "      <th>gene_id</th>\n",
              "      <th>expression</th>\n",
              "    </tr>\n",
              "  </thead>\n",
              "  <tbody>\n",
              "    <tr>\n",
              "      <th>0</th>\n",
              "      <td>553</td>\n",
              "      <td>594</td>\n",
              "      <td>0</td>\n",
              "    </tr>\n",
              "    <tr>\n",
              "      <th>1</th>\n",
              "      <td>553</td>\n",
              "      <td>9998</td>\n",
              "      <td>0</td>\n",
              "    </tr>\n",
              "    <tr>\n",
              "      <th>2</th>\n",
              "      <td>553</td>\n",
              "      <td>9999</td>\n",
              "      <td>0</td>\n",
              "    </tr>\n",
              "    <tr>\n",
              "      <th>3</th>\n",
              "      <td>553</td>\n",
              "      <td>6366</td>\n",
              "      <td>0</td>\n",
              "    </tr>\n",
              "    <tr>\n",
              "      <th>4</th>\n",
              "      <td>553</td>\n",
              "      <td>7804</td>\n",
              "      <td>0</td>\n",
              "    </tr>\n",
              "  </tbody>\n",
              "</table>\n",
              "</div>"
            ],
            "text/plain": [
              "   cell_id  gene_id  expression\n",
              "0      553      594           0\n",
              "1      553     9998           0\n",
              "2      553     9999           0\n",
              "3      553     6366           0\n",
              "4      553     7804           0"
            ]
          },
          "metadata": {
            "tags": []
          },
          "execution_count": 17
        }
      ]
    },
    {
      "cell_type": "code",
      "metadata": {
        "trusted": true,
        "id": "EHIN9KJ7itfv",
        "colab_type": "code",
        "colab": {},
        "outputId": "e6f84a6a-ae2d-449e-e095-cd0ee919b928"
      },
      "source": [
        "df_train.isnull().values.any()"
      ],
      "execution_count": null,
      "outputs": [
        {
          "output_type": "execute_result",
          "data": {
            "text/plain": [
              "False"
            ]
          },
          "metadata": {
            "tags": []
          },
          "execution_count": 18
        }
      ]
    },
    {
      "cell_type": "code",
      "metadata": {
        "trusted": true,
        "id": "G6Rbv6OUitfy",
        "colab_type": "code",
        "colab": {},
        "outputId": "ba1cf5df-36b7-4b79-9576-28ab138e8b3c"
      },
      "source": [
        "df_train.shape"
      ],
      "execution_count": null,
      "outputs": [
        {
          "output_type": "execute_result",
          "data": {
            "text/plain": [
              "(43734000, 3)"
            ]
          },
          "metadata": {
            "tags": []
          },
          "execution_count": 19
        }
      ]
    },
    {
      "cell_type": "code",
      "metadata": {
        "trusted": true,
        "id": "iIoqG5jpitf0",
        "colab_type": "code",
        "colab": {},
        "outputId": "7dcc1142-2bd9-435b-9575-19f8bb9fc64e"
      },
      "source": [
        "df_train.shape[0]/256"
      ],
      "execution_count": null,
      "outputs": [
        {
          "output_type": "execute_result",
          "data": {
            "text/plain": [
              "170835.9375"
            ]
          },
          "metadata": {
            "tags": []
          },
          "execution_count": 20
        }
      ]
    },
    {
      "cell_type": "markdown",
      "metadata": {
        "colab_type": "text",
        "id": "b-aJ-IwDn7HB"
      },
      "source": [
        "### **(3) Set Training Parameters**"
      ]
    },
    {
      "cell_type": "code",
      "metadata": {
        "colab_type": "code",
        "id": "_U-WWuSBVplW",
        "trusted": true,
        "colab": {}
      },
      "source": [
        "# define learning parameters\n",
        "num_neg = 4\n",
        "epochs = 20\n",
        "batch_size = 16 # 32 fro stim, 64 for ctrl\n",
        "learning_rate = 0.001\n",
        "latent_features = 20"
      ],
      "execution_count": null,
      "outputs": []
    },
    {
      "cell_type": "code",
      "metadata": {
        "colab_type": "code",
        "id": "IZDtvIMtV8UF",
        "trusted": true,
        "colab": {}
      },
      "source": [
        "# get train instances\n",
        "cell_input, gene_input, labels = cids, gids, values#get_train_instances()"
      ],
      "execution_count": null,
      "outputs": []
    },
    {
      "cell_type": "code",
      "metadata": {
        "colab_type": "code",
        "id": "yrbQKH5VKfXj",
        "trusted": true,
        "colab": {}
      },
      "source": [
        "#sum(labels)"
      ],
      "execution_count": null,
      "outputs": []
    },
    {
      "cell_type": "markdown",
      "metadata": {
        "colab_type": "text",
        "id": "qwPYghEET6Co"
      },
      "source": [
        "### (4) **Build & Train MLP Network**"
      ]
    },
    {
      "cell_type": "code",
      "metadata": {
        "colab_type": "code",
        "id": "2Q_VFxWKT9nV",
        "trusted": true,
        "colab": {
          "base_uri": "https://localhost:8080/",
          "height": 88
        },
        "outputId": "03acac7a-04d9-4b0e-8de3-611d6cf19c70"
      },
      "source": [
        "graph = tf.Graph() # tensorflow term for building a pipeline\n",
        "\n",
        "with graph.as_default():\n",
        "\n",
        "    # define input placeholders for cell, gene and count=label.\n",
        "    cell = tf.placeholder(tf.int32, shape=(None, 1))\n",
        "    gene = tf.placeholder(tf.int32, shape=(None, 1))\n",
        "    label = tf.placeholder(tf.int32, shape=(None, 1))\n",
        "\n",
        "    # cell feature embedding\n",
        "    c_var = tf.Variable(tf.random_uniform([len(cells), latent_features], minval= 0), name='cell_embedding')\n",
        "    cell_embedding = tf.nn.embedding_lookup(c_var, cell) # for each cell id, return a vector of length 20\n",
        "\n",
        "    # gene feature embedding\n",
        "    g_var = tf.Variable(tf.random_uniform([len(genes), latent_features], minval= 0), name='gene_embedding')\n",
        "    gene_embedding = tf.nn.embedding_lookup(g_var, gene) # for each gene id, return a vector of length 20\n",
        "\n",
        "    # Flatten our cell and gene embeddings.\n",
        "    cell_embedding = tf.keras.layers.Flatten()(cell_embedding)\n",
        "    gene_embedding = tf.keras.layers.Flatten()(gene_embedding)\n",
        "\n",
        "    # concatenate the two embedding vectors\n",
        "    concatenated = tf.keras.layers.concatenate([cell_embedding, gene_embedding])\n",
        "\n",
        "    \n",
        "    # add a first dropout layer.\n",
        "    dropout = tf.keras.layers.Dropout(0.2)(concatenated)\n",
        "\n",
        "    # add four hidden layers along with batch\n",
        "    # normalization and dropouts. use relu as the activation function.\n",
        "    layer_1 = tf.keras.layers.Dense(64, activation='relu', name='layer1')(dropout)\n",
        "    batch_norm1 = tf.keras.layers.BatchNormalization(name='batch_norm1')(layer_1)\n",
        "    dropout1 = tf.keras.layers.Dropout(0.2, name='dropout1')(batch_norm1)\n",
        "\n",
        "    layer_2 = tf.keras.layers.Dense(32, activation='linear', name='layer2')(layer_1)\n",
        "    batch_norm2 = tf.keras.layers.BatchNormalization(name='batch_norm1')(layer_2)\n",
        "    dropout2 = tf.keras.layers.Dropout(0.2, name='dropout1')(batch_norm2)\n",
        "\n",
        "    layer_3 = tf.keras.layers.Dense(16, activation='relu', name='layer3')(layer_2)\n",
        "    layer_4 = tf.keras.layers.Dense(8, activation='exponential', name='layer4')(layer_3) # make linear\n",
        "\n",
        "    # final single neuron output layer.\n",
        "    output_layer = tf.keras.layers.Dense(1,\n",
        "            kernel_initializer=\"lecun_uniform\",\n",
        "            name='output_layer')(layer_4)\n",
        "\n",
        "    # our loss function as mse.\n",
        "    labels = tf.cast(label, tf.float32)\n",
        "    #print(labels)\n",
        "    logits = output_layer\n",
        "    #tf.print(logits)\n",
        "    #loss =  poisson_loss(labels, logits) #tf.nn.log_poisson_loss(labels, logits)\n",
        "    loss = poisson_loss(labels, logits)\n",
        "    #print(loss)\n",
        "\n",
        "    # train using the Adam optimizer to minimize loss.\n",
        "    opt = tf.train.AdamOptimizer(learning_rate = learning_rate, epsilon=1)\n",
        "    step = opt.minimize(loss)\n",
        "\n",
        "    # initialize all tensorflow variables.\n",
        "    init = tf.global_variables_initializer()\n",
        "\n",
        "session = tf.Session(config=None, graph=graph)\n",
        "session.run(init)"
      ],
      "execution_count": null,
      "outputs": [
        {
          "output_type": "stream",
          "text": [
            "WARNING:tensorflow:From /anaconda/envs/py36/lib/python3.6/site-packages/tensorflow_core/python/ops/resource_variable_ops.py:1630: calling BaseResourceVariable.__init__ (from tensorflow.python.ops.resource_variable_ops) with constraint is deprecated and will be removed in a future version.\n",
            "Instructions for updating:\n",
            "If using Keras pass *_constraint arguments to layers.\n"
          ],
          "name": "stdout"
        }
      ]
    },
    {
      "cell_type": "code",
      "metadata": {
        "colab_type": "code",
        "id": "a-pUtYfRV21l",
        "trusted": true,
        "colab": {}
      },
      "source": [
        "# for epoch in range(epochs):\n",
        "\n",
        "#     # Get our training input.\n",
        "#     cell_input, gene_input, labels = cids, gids, values  #get_train_instances()\n",
        "\n",
        "#     # Generate a list of minibatches.\n",
        "#     minibatches = random_mini_batches(cell_input, gene_input, labels)\n",
        "\n",
        "#     # This has noting to do with tensorflow but gives\n",
        "#     # us a nice progress bar for the training\n",
        "#     progress = tqdm(total=len(minibatches))\n",
        "\n",
        "#     # Loop over each batch and feed our cells, genes and labels\n",
        "#     # into our graph. \n",
        "#     for minibatch in minibatches:\n",
        "#         feed_dict = {cell: np.array(minibatch[0]).reshape(-1,1),\n",
        "#                     gene: np.array(minibatch[1]).reshape(-1,1),\n",
        "#                     label: np.array(minibatch[2]).reshape(-1,1)}\n",
        "   \n",
        "#         # Execute the graph.\n",
        "#         _, l = session.run([step, loss], feed_dict)\n",
        "#         # Update the progress\n",
        "#         progress.update(1)\n",
        "#         progress.set_description('Epoch: %d - Loss: %.8f' % (epoch+1, l))\n",
        "\n",
        "#     progress.close()"
      ],
      "execution_count": null,
      "outputs": []
    },
    {
      "cell_type": "code",
      "metadata": {
        "colab_type": "code",
        "id": "chDk0bQJeFXd",
        "trusted": true,
        "colab": {}
      },
      "source": [
        "# mlp_df = make_recommendation()\n",
        "# #mlp_df.drop('Gene', axis=1, inplace=True)\n",
        "# mlp_df.head()"
      ],
      "execution_count": null,
      "outputs": []
    },
    {
      "cell_type": "code",
      "metadata": {
        "colab_type": "code",
        "id": "HfNnaRTjg8MY",
        "trusted": true,
        "colab": {}
      },
      "source": [
        "# # try basic clustering\n",
        "# kMeans_clustering()"
      ],
      "execution_count": null,
      "outputs": []
    },
    {
      "cell_type": "markdown",
      "metadata": {
        "colab_type": "text",
        "id": "JOeD4NHFlFTN"
      },
      "source": [
        "### **(5) Build & Train GMF Network**"
      ]
    },
    {
      "cell_type": "code",
      "metadata": {
        "colab_type": "code",
        "id": "ZQzTybLklIHI",
        "trusted": true,
        "colab": {}
      },
      "source": [
        "graph = tf.Graph()\n",
        "\n",
        "with graph.as_default():\n",
        "\n",
        "    cell = tf.placeholder(tf.int32, shape=(None, 1))\n",
        "    gene = tf.placeholder(tf.int32, shape=(None, 1))\n",
        "    label = tf.placeholder(tf.int32, shape=(None, 1))\n",
        "\n",
        "    \n",
        "    c_var = tf.Variable(tf.random_uniform([len(cells), latent_features],\n",
        "                                         minval =0.0), name='cell_embedding')\n",
        "    cell_embedding = tf.nn.embedding_lookup(c_var, cell)\n",
        "\n",
        "\n",
        "    g_var = tf.Variable(tf.random_uniform([len(genes), latent_features],\n",
        "                                         minval=0.0), name='gene_embedding')\n",
        "    gene_embedding = tf.nn.embedding_lookup(g_var, gene)\n",
        "    \n",
        "    # flatten the embeddings \n",
        "    cell_embedding = tf.keras.layers.Flatten()(cell_embedding)\n",
        "    gene_embedding = tf.keras.layers.Flatten()(gene_embedding)\n",
        "\n",
        "    # multiplying our cell and gene latent space vectors together \n",
        "    prediction_matrix = tf.multiply(cell_embedding, gene_embedding)\n",
        "\n",
        "    \n",
        "    output_layer = tf.keras.layers.Dense(1, \n",
        "            kernel_initializer=\"lecun_uniform\",\n",
        "            name='output_layer')(prediction_matrix)\n",
        "\n",
        "    # loss function as mse. \n",
        "    labels = tf.cast(label, tf.float32)\n",
        "    loss = tf.reduce_mean(tf.square(tf.subtract(labels, output_layer)))\n",
        "    \n",
        "    # using the Adam optimizer to minimize loss.\n",
        "    opt = tf.train.AdamOptimizer(learning_rate = learning_rate)\n",
        "    step = opt.minimize(loss)\n",
        "\n",
        "    # initialize all tensorflow variables.\n",
        "    init = tf.global_variables_initializer()\n",
        "\n",
        "session = tf.Session(config=None, graph=graph)\n",
        "session.run(init)"
      ],
      "execution_count": null,
      "outputs": []
    },
    {
      "cell_type": "code",
      "metadata": {
        "colab_type": "code",
        "id": "mOQohQDylMiv",
        "trusted": true,
        "colab": {}
      },
      "source": [
        "# for epoch in range(epochs):\n",
        "\n",
        "#     # Get our training input.\n",
        "#     cell_input, gene_input, labels = get_train_instances()\n",
        "\n",
        "#     # Generate a list of minibatches.\n",
        "#     minibatches = random_mini_batches(cell_input, gene_input, labels)\n",
        "\n",
        "#     # This has noting to do with tensorflow but gives\n",
        "#     # us a nice progress bar for the training\n",
        "#     progress = tqdm(total=len(minibatches))\n",
        "\n",
        "#     # Loop over each batch and feed our cells, genes and labels\n",
        "#     # into our graph. \n",
        "#     for minibatch in minibatches:\n",
        "#         feed_dict = {cell: np.array(minibatch[0]).reshape(-1,1),\n",
        "#                     gene: np.array(minibatch[1]).reshape(-1,1),\n",
        "#                     label: np.array(minibatch[2]).reshape(-1,1)}\n",
        "   \n",
        "#         # Execute the graph.\n",
        "#         _, l = session.run([step, loss], feed_dict)\n",
        "\n",
        "#         # Update the progress\n",
        "#         progress.update(1)\n",
        "#         progress.set_description('Epoch: %d - Loss: %.3f' % (epoch+1, l))\n",
        "\n",
        "#     progress.close()"
      ],
      "execution_count": null,
      "outputs": []
    },
    {
      "cell_type": "code",
      "metadata": {
        "colab_type": "code",
        "id": "K67wuFY8lU_c",
        "trusted": true,
        "colab": {}
      },
      "source": [
        "# mlp_df = make_recommendation()\n",
        "# mlp_df.drop('Gene', axis=1, inplace=True)\n",
        "# mlp_df.head()"
      ],
      "execution_count": null,
      "outputs": []
    },
    {
      "cell_type": "code",
      "metadata": {
        "colab_type": "code",
        "id": "VcRXldjylV6t",
        "trusted": true,
        "colab": {}
      },
      "source": [
        "# # try basic clustering\n",
        "# kMeans_clustering()"
      ],
      "execution_count": null,
      "outputs": []
    },
    {
      "cell_type": "markdown",
      "metadata": {
        "colab_type": "text",
        "id": "q4RXauN3lWqX"
      },
      "source": [
        "### **(6) Build & Train Combined NeuMF**"
      ]
    },
    {
      "cell_type": "code",
      "metadata": {
        "colab_type": "code",
        "id": "wxpB2gGOlalr",
        "trusted": true,
        "colab": {}
      },
      "source": [
        "graph = tf.Graph()\n",
        "\n",
        "with graph.as_default():\n",
        "\n",
        "    cell = tf.placeholder(tf.int32, shape=(None, 1))\n",
        "    gene = tf.placeholder(tf.int32, shape=(None, 1))\n",
        "    label = tf.placeholder(tf.int32, shape=(None, 1))\n",
        "\n",
        "    \n",
        "    mlp_c_var = tf.Variable(tf.random_uniform([len(cells), latent_features], minval=0), name='mlp_cell_embedding')\n",
        "    mlp_cell_embedding = tf.nn.embedding_lookup(mlp_c_var, cell)\n",
        "\n",
        "    \n",
        "    mlp_g_var = tf.Variable(tf.random_uniform([len(genes), latent_features], minval=0), name='mlp_gene_embedding')\n",
        "    mlp_gene_embedding = tf.nn.embedding_lookup(mlp_g_var, gene)\n",
        "\n",
        "    \n",
        "    gmf_c_var = tf.Variable(tf.random_uniform([len(cells), latent_features], minval=0), name='gmf_cell_embedding')\n",
        "    gmf_cell_embedding = tf.nn.embedding_lookup(gmf_c_var, cell)\n",
        "\n",
        "    # gene embedding for GMF\n",
        "    gmf_g_var = tf.Variable(tf.random_uniform([len(genes), latent_features], minval=0), name='gmf_item_embedding')\n",
        "    gmf_gene_embedding = tf.nn.embedding_lookup(gmf_g_var, gene)\n",
        "\n",
        "    # flatten gmf embedding\n",
        "    gmf_cell_embed = tf.keras.layers.Flatten()(gmf_cell_embedding)\n",
        "    gmf_gene_embed = tf.keras.layers.Flatten()(gmf_gene_embedding)\n",
        "    gmf_matrix = tf.multiply(gmf_cell_embed, gmf_gene_embed)\n",
        "\n",
        "    # flatten mlp embedding\n",
        "    mlp_cell_embed = tf.keras.layers.Flatten()(mlp_cell_embedding)\n",
        "    mlp_gene_embed = tf.keras.layers.Flatten()(mlp_gene_embedding)\n",
        "    mlp_concat = tf.keras.layers.concatenate([mlp_cell_embed, mlp_gene_embed])\n",
        "\n",
        "    mlp_dropout = tf.keras.layers.Dropout(0.2)(mlp_concat)\n",
        "\n",
        "    mlp_layer_1 = tf.keras.layers.Dense(64, activation='relu', name='layer1')(mlp_dropout)\n",
        "    mlp_batch_norm1 = tf.keras.layers.BatchNormalization(name='batch_norm1')(mlp_layer_1)\n",
        "    mlp_dropout1 = tf.keras.layers.Dropout(0.2, name='dropout1')(mlp_batch_norm1)\n",
        "\n",
        "    mlp_layer_2 = tf.keras.layers.Dense(32, activation='relu', name='layer2')(mlp_dropout1)\n",
        "    mlp_batch_norm2 = tf.keras.layers.BatchNormalization(name='batch_norm1')(mlp_layer_2)\n",
        "    mlp_dropout2 = tf.keras.layers.Dropout(0.2, name='dropout1')(mlp_batch_norm2)\n",
        "\n",
        "    mlp_layer_3 = tf.keras.layers.Dense(16, activation='relu', name='layer3')(mlp_dropout2)\n",
        "    mlp_layer_4 = tf.keras.layers.Dense(8, activation='exponential', name='layer4')(mlp_layer_3)\n",
        "\n",
        "    # We merge the two networks together\n",
        "    merged_vector = tf.keras.layers.concatenate([gmf_matrix, mlp_layer_4])\n",
        "\n",
        "    # Our final single neuron output layer. \n",
        "    output_layer = tf.keras.layers.Dense(1,\n",
        "            kernel_initializer=\"lecun_uniform\",\n",
        "            name='output_layer')(merged_vector)\n",
        "\n",
        "    # Our loss function as mse. \n",
        "    labels = tf.cast(label, tf.float32)\n",
        "    loss = tf.reduce_mean(tf.square(tf.subtract(\n",
        "                labels,\n",
        "                output_layer)))\n",
        "    #loss = poisson_loss(labels, output_layer)\n",
        "\n",
        "    # Train using the Adam optimizer to minimize our loss.\n",
        "    opt = tf.train.AdamOptimizer(learning_rate = learning_rate, epsilon=1)\n",
        "    step = opt.minimize(loss)\n",
        "\n",
        "    # Initialize all tensorflow variables.\n",
        "    init = tf.global_variables_initializer()\n",
        "\n",
        "\n",
        "session = tf.Session(config=None, graph=graph)\n",
        "session.run(init)"
      ],
      "execution_count": null,
      "outputs": []
    },
    {
      "cell_type": "code",
      "metadata": {
        "colab_type": "code",
        "id": "9BNFsRL2lgkw",
        "trusted": true,
        "colab": {
          "base_uri": "https://localhost:8080/",
          "height": 392
        },
        "outputId": "aaa5e76c-670b-4f51-c047-db6e472b6ee8"
      },
      "source": [
        "for epoch in range(epochs):\n",
        "\n",
        "    # Get our training input.\n",
        "    cell_input, gene_input, labels = cids, gids, values #get_train_instances()\n",
        "\n",
        "    # Generate a list of minibatches.\n",
        "    minibatches = random_mini_batches(cell_input, gene_input, labels, batch_size)\n",
        "\n",
        "    # This has noting to do with tensorflow but gives\n",
        "    # us a nice progress bar for the training\n",
        "    progress = tqdm(total=len(minibatches))\n",
        "\n",
        "    # Loop over each batch and feed our cells, genes and labels\n",
        "    # into our graph. \n",
        "    for minibatch in minibatches:\n",
        "        feed_dict = {cell: np.array(minibatch[0]).reshape(-1,1),\n",
        "                    gene: np.array(minibatch[1]).reshape(-1,1),\n",
        "                    label: np.array(minibatch[2]).reshape(-1,1)}\n",
        "   \n",
        "        # Execute the graph.\n",
        "        _, l = session.run([step, loss], feed_dict)\n",
        "        # Update the progress\n",
        "        progress.update(1)\n",
        "        progress.set_description('Epoch: %d - Loss: %.3f' % (epoch+1, l))\n",
        "\n",
        "    progress.close()"
      ],
      "execution_count": null,
      "outputs": [
        {
          "output_type": "stream",
          "text": [
            "Epoch: 1 - Loss: 0.010: 100%|██████████| 2733375/2733375 [2:19:30<00:00, 326.53it/s]       \n",
            "Epoch: 2 - Loss: 0.044: 100%|██████████| 2733375/2733375 [2:18:50<00:00, 328.12it/s]       \n",
            "Epoch: 3 - Loss: 0.026: 100%|██████████| 2733375/2733375 [2:18:20<00:00, 329.30it/s]       \n",
            "Epoch: 4 - Loss: 0.004:  16%|█▌        | 442551/2733375 [22:39<1:54:45, 332.68it/s]     "
          ],
          "name": "stderr"
        }
      ]
    },
    {
      "cell_type": "code",
      "metadata": {
        "colab_type": "code",
        "id": "-y3T7VEF07gY",
        "trusted": false,
        "colab": {}
      },
      "source": [
        "mlp_df = make_recommendation()\n",
        "#mlp_df.drop('Gene', axis=1, inplace=True) #uncomment to cluster but comment out when writing out to csv file.\n",
        "mlp_df.head()"
      ],
      "execution_count": null,
      "outputs": []
    },
    {
      "cell_type": "code",
      "metadata": {
        "colab_type": "code",
        "id": "jwBNqgmo-K6C",
        "trusted": false,
        "colab": {}
      },
      "source": [
        "# try basic clustering\n",
        "#kMeans_clustering(10)"
      ],
      "execution_count": null,
      "outputs": []
    },
    {
      "cell_type": "markdown",
      "metadata": {
        "colab_type": "text",
        "id": "HNiDwpJRpy2Z"
      },
      "source": [
        "### **(7) Save Dense Matrix to File**"
      ]
    },
    {
      "cell_type": "code",
      "metadata": {
        "colab_type": "code",
        "id": "m_biCN_RpwPr",
        "trusted": false,
        "colab": {}
      },
      "source": [
        "mlp_df.to_csv(\"stim_dense_shortAll3.csv\", index = False)"
      ],
      "execution_count": null,
      "outputs": []
    },
    {
      "cell_type": "code",
      "metadata": {
        "trusted": false,
        "id": "YTnfmN-pitgj",
        "colab_type": "code",
        "colab": {}
      },
      "source": [
        ""
      ],
      "execution_count": null,
      "outputs": []
    }
  ]
}